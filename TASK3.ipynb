{
  "cells": [
    {
      "cell_type": "code",
      "execution_count": 2,
      "metadata": {
        "colab": {
          "base_uri": "https://localhost:8080/"
        },
        "id": "jGHztUau_N0o",
        "outputId": "e4698a0c-365b-44ec-ae27-7f1c179bb3ba"
      },
      "outputs": [
        {
          "output_type": "stream",
          "name": "stdout",
          "text": [
            "Dataset Loaded Successfully!\n",
            "First 5 rows of the dataset:\n",
            "   Car_Name  Year  Selling_Price  Present_Price  Driven_kms Fuel_Type  \\\n",
            "0     ritz  2014           3.35           5.59       27000    Petrol   \n",
            "1      sx4  2013           4.75           9.54       43000    Diesel   \n",
            "2     ciaz  2017           7.25           9.85        6900    Petrol   \n",
            "3  wagon r  2011           2.85           4.15        5200    Petrol   \n",
            "4    swift  2014           4.60           6.87       42450    Diesel   \n",
            "\n",
            "  Selling_type Transmission  Owner  \n",
            "0       Dealer       Manual      0  \n",
            "1       Dealer       Manual      0  \n",
            "2       Dealer       Manual      0  \n",
            "3       Dealer       Manual      0  \n",
            "4       Dealer       Manual      0  \n",
            "Data Preprocessing Completed!\n",
            "Mean Squared Error: 0.782636952131147\n",
            "Model trained successfully.\n"
          ]
        }
      ],
      "source": [
        "import pandas as pd\n",
        "from sklearn.model_selection import train_test_split\n",
        "from sklearn.ensemble import RandomForestRegressor\n",
        "from sklearn.metrics import mean_squared_error\n",
        "from sklearn.preprocessing import LabelEncoder\n",
        "\n",
        "# Step 1: Load the dataset\n",
        "def load_data(file_path):\n",
        "    df = pd.read_csv(file_path)\n",
        "    print(\"Dataset Loaded Successfully!\")\n",
        "    return df\n",
        "\n",
        "# Step 2: Preprocess data\n",
        "def preprocess_data(df):\n",
        "    # Handle missing values\n",
        "    df = df.dropna()\n",
        "\n",
        "    # Encode categorical features\n",
        "    label_encoders = {}\n",
        "    for col in df.select_dtypes(include=['object']).columns:\n",
        "        label_encoders[col] = LabelEncoder()\n",
        "        df[col] = label_encoders[col].fit_transform(df[col])\n",
        "\n",
        "    # Separate features and target variable\n",
        "    X = df.drop(['Selling_Price'], axis=1)  # Assuming 'Price' is the target column\n",
        "    y = df['Selling_Price']\n",
        "    return X, y, label_encoders\n",
        "\n",
        "# Step 3: Train the model\n",
        "def train_model(X, y):\n",
        "    X_train, X_test, y_train, y_test = train_test_split(X, y, test_size=0.2, random_state=42)\n",
        "    model = RandomForestRegressor(n_estimators=100, random_state=42)\n",
        "    model.fit(X_train, y_train)\n",
        "    y_pred = model.predict(X_test)\n",
        "    mse = mean_squared_error(y_test, y_pred)\n",
        "    print(f\"Mean Squared Error: {mse}\")\n",
        "    return model\n",
        "\n",
        "# Main function\n",
        "if __name__ == \"__main__\":\n",
        "    # Replace 'car_data.csv' with the path to your dataset\n",
        "    file_path = \"car data.csv\"\n",
        "\n",
        "    # Load and preprocess the data\n",
        "    df = load_data(file_path)\n",
        "    print(\"First 5 rows of the dataset:\\n\", df.head())\n",
        "\n",
        "    X, y, label_encoders = preprocess_data(df)\n",
        "    print(\"Data Preprocessing Completed!\")\n",
        "\n",
        "    # Train the model\n",
        "    model = train_model(X, y)\n",
        "    print(\"Model trained successfully.\")"
      ]
    }
  ],
  "metadata": {
    "colab": {
      "provenance": [],
      "authorship_tag": "ABX9TyPVDGXtRQ3wYbO3i04x9/bX"
    },
    "kernelspec": {
      "display_name": "Python 3",
      "name": "python3"
    },
    "language_info": {
      "name": "python"
    }
  },
  "nbformat": 4,
  "nbformat_minor": 0
}